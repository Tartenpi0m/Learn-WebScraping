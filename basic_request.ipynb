{
 "cells": [
  {
   "cell_type": "markdown",
   "source": [
    "# Web-Scarpping"
   ],
   "metadata": {}
  },
  {
   "cell_type": "markdown",
   "source": [
    "## Imports"
   ],
   "metadata": {}
  },
  {
   "cell_type": "code",
   "execution_count": 1,
   "source": [
    "import requests\n",
    "from bs4 import BeautifulSoup"
   ],
   "outputs": [],
   "metadata": {}
  },
  {
   "cell_type": "markdown",
   "source": [
    "## Request"
   ],
   "metadata": {}
  },
  {
   "cell_type": "code",
   "execution_count": 46,
   "source": [
    "domain = \"https://fr.wikipedia.org\"\n",
    "url = \"https://fr.wikipedia.org/wiki/Ornithorynque\"\n",
    "response = requests.get(url)\n",
    "\n",
    "if response.ok:\n",
    "    print(\"La requête a fonctionnée ,(code :\", response,\")\")\n",
    "else:\n",
    "    print('Code erreur : ',response)\n",
    "\n",
    "#response.headers   #general info about the website page and the response\n",
    "#response.text      #html code"
   ],
   "outputs": [
    {
     "output_type": "stream",
     "name": "stdout",
     "text": [
      "La requête a fonctionnée ,(code : <Response [200]> )\n"
     ]
    }
   ],
   "metadata": {}
  },
  {
   "cell_type": "markdown",
   "source": [
    "## Parse with BeautifulSoup"
   ],
   "metadata": {}
  },
  {
   "cell_type": "code",
   "execution_count": 47,
   "source": [
    "if response.ok:\n",
    "    soup = BeautifulSoup(response.text)\n",
    "\n",
    "    title = soup.find('title')\n",
    "    print(title)\n",
    "    print(title.text)\n"
   ],
   "outputs": [
    {
     "output_type": "stream",
     "name": "stdout",
     "text": [
      "<title>Ornithorynque — Wikipédia</title>\n",
      "Ornithorynque — Wikipédia\n"
     ]
    }
   ],
   "metadata": {}
  },
  {
   "cell_type": "markdown",
   "source": [
    "### Scrap the info in the right table of wikipedia"
   ],
   "metadata": {}
  },
  {
   "cell_type": "code",
   "execution_count": 48,
   "source": [
    "trs = soup.findAll('tr')\n",
    "print(len(tr))    #Number of 'tr' balise in the webpage"
   ],
   "outputs": [
    {
     "output_type": "stream",
     "name": "stdout",
     "text": [
      "5\n"
     ]
    }
   ],
   "metadata": {}
  },
  {
   "cell_type": "code",
   "execution_count": 49,
   "source": [
    "for tr in trs:\n",
    "    span = tr.find('span')\n",
    "    a = span.find('a')\n",
    "    print(span.text, \"  link :\", domain + a['href'])"
   ],
   "outputs": [
    {
     "output_type": "stream",
     "name": "stdout",
     "text": [
      "Animalia   link : https://fr.wikipedia.org/wiki/Animal\n",
      "Chordata   link : https://fr.wikipedia.org/wiki/Chordata\n",
      "Vertebrata   link : https://fr.wikipedia.org/wiki/Vertebrata\n",
      "Mammalia   link : https://fr.wikipedia.org/wiki/Mammalia\n",
      "Prototheria   link : https://fr.wikipedia.org/wiki/Prototheria\n",
      "Monotremata   link : https://fr.wikipedia.org/wiki/Monotremata\n",
      "Ornithorhynchidae   link : https://fr.wikipedia.org/wiki/Ornithorhynchidae\n"
     ]
    }
   ],
   "metadata": {}
  },
  {
   "cell_type": "code",
   "execution_count": 40,
   "source": [
    "span"
   ],
   "outputs": [
    {
     "output_type": "execute_result",
     "data": {
      "text/plain": [
       "<span class=\"normal\"><a href=\"/wiki/Ornithorhynchidae\" title=\"Ornithorhynchidae\">Ornithorhynchidae</a></span>"
      ]
     },
     "metadata": {},
     "execution_count": 40
    }
   ],
   "metadata": {}
  }
 ],
 "metadata": {
  "orig_nbformat": 4,
  "language_info": {
   "name": "python",
   "version": "3.8.10",
   "mimetype": "text/x-python",
   "codemirror_mode": {
    "name": "ipython",
    "version": 3
   },
   "pygments_lexer": "ipython3",
   "nbconvert_exporter": "python",
   "file_extension": ".py"
  },
  "kernelspec": {
   "name": "python3",
   "display_name": "Python 3.8.10 64-bit"
  },
  "interpreter": {
   "hash": "31f2aee4e71d21fbe5cf8b01ff0e069b9275f58929596ceb00d14d90e3e16cd6"
  }
 },
 "nbformat": 4,
 "nbformat_minor": 2
}