{
 "cells": [
  {
   "cell_type": "markdown",
   "source": [
    "# Paris tennis web scrapping bot for create a dataset"
   ],
   "metadata": {}
  },
  {
   "cell_type": "code",
   "execution_count": null,
   "source": [
    "import requests\n",
    "from bs4 import BeautifulSoup"
   ],
   "outputs": [],
   "metadata": {}
  },
  {
   "cell_type": "markdown",
   "source": [
    "## Get html code of the specific tennis court"
   ],
   "metadata": {}
  },
  {
   "cell_type": "code",
   "execution_count": null,
   "source": [
    "url = \"https://tennis.paris.fr/tennis/jsp/site/Portal.jsp?page=recherche&view=planning&name_tennis=Edouard+Pailleron\"\n",
    "\n",
    "response = requests.get(url)\n",
    "\n",
    "if response.ok:\n",
    "    html = BeautifulSoup(response.text)\n",
    "    print(html.find('title').text)\n",
    "else:\n",
    "    print(response)"
   ],
   "outputs": [],
   "metadata": {}
  },
  {
   "cell_type": "code",
   "execution_count": null,
   "source": [
    "week = html.find('div', {'class' : \"row seven-cols row-eq-height\"})\n",
    "days =  week.find('dive', {'class' : 'col-xs-12 col-sm-6 col-lg-1'})\n",
    "for day in days:\n",
    "    "
   ],
   "outputs": [],
   "metadata": {}
  },
  {
   "cell_type": "code",
   "execution_count": 34,
   "source": [
    "url = 'https://tennis.paris.fr/tennis/jsp/site/Portal.jsp?page=recherche&view=planning&name_tennis=Edouard+Pailleron'\n",
    "with requests.Session() as s:\n",
    "    s.get(url)\n",
    "    values = {'date_selected' : \"01%2F09%2F2021\", 'name_tennis' : \"Edouard+Pailleron\"}\n",
    "    s.post(url, data=values)\n",
    "    url2 = \"https://tennis.paris.fr/tennis/jsp/site/Portal.jsp?page=recherche&action=ajax_load_planning\"\n",
    "    response = s.get(url2)\n",
    "\n",
    "\n",
    "    #date_selected=30%2F08%2F2021&name_tennis=Edouard+Pailleron"
   ],
   "outputs": [],
   "metadata": {}
  },
  {
   "cell_type": "code",
   "execution_count": 32,
   "source": [
    "values = {'date_selected' : \"01%2F09%2F2021\", 'name_tennis' : \"Edouard+Pailleron\"}\n",
    "response1 = requests.post(url, data=values)"
   ],
   "outputs": [],
   "metadata": {}
  },
  {
   "cell_type": "code",
   "execution_count": 35,
   "source": [
    "print(response.headers)\n",
    "\n",
    "with open('index.html','w') as f:\n",
    "    f.write(response.text)\n"
   ],
   "outputs": [
    {
     "output_type": "stream",
     "name": "stdout",
     "text": [
      "{'Content-Type': 'text/html;charset=UTF-8', 'Content-Length': '2000', 'Date': 'Sun, 29 Aug 2021 18:17:04 GMT', 'Cneonction': 'close', 'Strict-Transport-Security': 'max-age=15768000', 'Set-Cookie': 'NSC_WT_TUE11_0000101_iuuq_cbdlfoe01=14b5a3d99033e463b698b6a0d88f87f9f2a86446398d5ebf4b409ea7489f22a5b754215a;expires=Sun, 29-Aug-2021 18:27:04 GMT;path=/;secure;httponly'}\n"
     ]
    }
   ],
   "metadata": {}
  }
 ],
 "metadata": {
  "orig_nbformat": 4,
  "language_info": {
   "name": "python",
   "version": "3.8.10",
   "mimetype": "text/x-python",
   "codemirror_mode": {
    "name": "ipython",
    "version": 3
   },
   "pygments_lexer": "ipython3",
   "nbconvert_exporter": "python",
   "file_extension": ".py"
  },
  "kernelspec": {
   "name": "python3",
   "display_name": "Python 3.8.10 64-bit"
  },
  "interpreter": {
   "hash": "31f2aee4e71d21fbe5cf8b01ff0e069b9275f58929596ceb00d14d90e3e16cd6"
  }
 },
 "nbformat": 4,
 "nbformat_minor": 2
}